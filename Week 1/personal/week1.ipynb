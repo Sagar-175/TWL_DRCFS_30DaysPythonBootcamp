{
 "cells": [
  {
   "cell_type": "code",
   "execution_count": null,
   "metadata": {},
   "outputs": [],
   "source": [
    "print (\"hello world\")"
   ]
  },
  {
   "cell_type": "code",
   "execution_count": null,
   "metadata": {},
   "outputs": [],
   "source": [
    "person = input (\"name?\")\n",
    "print (\"hello\" + person)"
   ]
  },
  {
   "cell_type": "code",
   "execution_count": null,
   "metadata": {},
   "outputs": [],
   "source": [
    "age = input(\"What is your age?\")\n",
    "print(\"Your age is\" + age)"
   ]
  },
  {
   "cell_type": "code",
   "execution_count": null,
   "metadata": {},
   "outputs": [],
   "source": [
    "person = input(\"What is your name?\" )\n",
    "print(\"My name is\" + person)"
   ]
  },
  {
   "cell_type": "markdown",
   "metadata": {},
   "source": [
    "##Control flow statements"
   ]
  },
  {
   "cell_type": "markdown",
   "metadata": {},
   "source": [
    "For driving license:\n",
    "    1. Input user's age\n",
    "    2. Convert user's age to integer\n",
    "    3. Check if user's' age is older than 16 years old\n",
    "    4. If user is older, show he is eligible else show he is not"
   ]
  },
  {
   "cell_type": "code",
   "execution_count": null,
   "metadata": {},
   "outputs": [],
   "source": [
    "# get user's age\n",
    "age_str = input(\"What is your age?\")\n",
    "# convert string into int\n",
    "age = int(age_str)\n",
    "# compare user's age\n",
    "if age >= 16:\n",
    "    print('You are old enough to drive a bike')\n",
    "else:\n",
    "    print(\"You are not old enough to drive a bike\")\n"
   ]
  },
  {
   "cell_type": "markdown",
   "metadata": {},
   "source": [
    "login system"
   ]
  },
  {
   "cell_type": "code",
   "execution_count": null,
   "metadata": {},
   "outputs": [],
   "source": [
    "#login system\n",
    "username = input(\"Enter your username\")\n",
    "password = input(\"Enter your password\")\n",
    "#username == 'duck' and password == 'passw0rd'\n",
    "if username == 'duck' and password == 'passw0rd':\n",
    "    print(\"Welcome duck\")\n",
    "elif username == 'ankur' or password == 'ankur123':\n",
    "    print(\"Welcome ankur\")\n",
    "else:\n",
    "    print(\"Invalid username or password\")"
   ]
  },
  {
   "cell_type": "markdown",
   "metadata": {},
   "source": [
    "looping statements\n",
    "Types of looping statements\n",
    "1. For loop - definite times\n",
    "2. While loop - indefinite times"
   ]
  },
  {
   "cell_type": "code",
   "execution_count": null,
   "metadata": {},
   "outputs": [],
   "source": [
    "   \n",
    "#odd even\n",
    "for i in range(10):\n",
    "    if i % 2 == 0: # % is called the modulo operator\n",
    "        print(str(i) + ' is even')\n",
    "    else:\n",
    "        print(str(i) + ' is odd')"
   ]
  },
  {
   "cell_type": "markdown",
   "metadata": {},
   "source": [
    "Range unction:\n",
    "1. range(10) -> 0, 1, 2, 3, ..., 9\n",
    "2. range(1,11) -> 1, 2, 3, ..., 10\n",
    "3. range(10, 1, -1) -> 10, 9, 8, .., 2"
   ]
  },
  {
   "cell_type": "code",
   "execution_count": null,
   "metadata": {},
   "outputs": [],
   "source": [
    "# for(int i = 10; i >= 1; i--)\n",
    "for i in range(1, 11, 3):\n",
    "    print(i)"
   ]
  },
  {
   "cell_type": "markdown",
   "metadata": {},
   "source": [
    "## guessing game\n",
    "1. Generate a random number // 10 (random module)\n",
    "2. Create a loop:\n",
    "    1. Take input from user (int) // 8 (input())\n",
    "    2. Compare the number: (if/ else)\n",
    "        Lower -> \"The number is lower\"\n",
    "        Greater -> \"The number is greater\""
   ]
  },
  {
   "cell_type": "code",
   "execution_count": 2,
   "metadata": {},
   "outputs": [
    {
     "name": "stdout",
     "output_type": "stream",
     "text": [
      "**************************************************\n",
      "Your guess is lesser than random number\n",
      "**************************************************\n",
      "**************************************************\n",
      "HOORAY!!! You got the correct guess in 2 tries\n",
      "**************************************************\n"
     ]
    }
   ],
   "source": [
    "import random\n",
    "random_number = random.randint(1,10)\n",
    "for i in range(3):\n",
    "    guess = int(input('Enter your guess between 1 and 10: '))\n",
    "    if guess == random_number:\n",
    "        print('*'*50)\n",
    "        print(f\"HOORAY!!! You got the correct guess in {i+1} tries\")\n",
    "        print('*'*50)\n",
    "        break\n",
    "    elif guess > random_number:\n",
    "        print('*'*50)\n",
    "        print(\"Your guess is greater than random number\")\n",
    "        print('*'*50)\n",
    "    elif guess < random_number:\n",
    "        print('*'*50)\n",
    "        print(\"Your guess is lesser than random number\")\n",
    "        print('*'*50)"
   ]
  }
 ],
 "metadata": {
  "kernelspec": {
   "display_name": "Python 3.11.0 64-bit",
   "language": "python",
   "name": "python3"
  },
  "language_info": {
   "codemirror_mode": {
    "name": "ipython",
    "version": 3
   },
   "file_extension": ".py",
   "mimetype": "text/x-python",
   "name": "python",
   "nbconvert_exporter": "python",
   "pygments_lexer": "ipython3",
   "version": "3.11.0"
  },
  "orig_nbformat": 4,
  "vscode": {
   "interpreter": {
    "hash": "7811cc115f115b41c977165ea184702bd403833a83dcee82f674c980b9f1626e"
   }
  }
 },
 "nbformat": 4,
 "nbformat_minor": 2
}
