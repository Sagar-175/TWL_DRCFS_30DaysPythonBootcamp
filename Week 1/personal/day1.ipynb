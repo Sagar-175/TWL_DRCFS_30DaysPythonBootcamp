{
 "cells": [
  {
   "cell_type": "code",
   "execution_count": null,
   "metadata": {},
   "outputs": [],
   "source": [
    "print (\"hello world\")"
   ]
  },
  {
   "cell_type": "code",
   "execution_count": 1,
   "metadata": {},
   "outputs": [
    {
     "name": "stdout",
     "output_type": "stream",
     "text": [
      "helloSagar\n"
     ]
    }
   ],
   "source": [
    "person = input (\"name?\")\n",
    "print (\"hello\" + person)"
   ]
  },
  {
   "cell_type": "code",
   "execution_count": 2,
   "metadata": {},
   "outputs": [
    {
     "name": "stdout",
     "output_type": "stream",
     "text": [
      "Your age is23\n"
     ]
    }
   ],
   "source": [
    "age = input(\"What is your age?\")\n",
    "print(\"Your age is\" + age)"
   ]
  },
  {
   "cell_type": "code",
   "execution_count": 3,
   "metadata": {},
   "outputs": [
    {
     "name": "stdout",
     "output_type": "stream",
     "text": [
      "My name isSagar Gosai\n"
     ]
    }
   ],
   "source": [
    "person = input(\"What is your name?\" )\n",
    "print(\"My name is\" + person)"
   ]
  },
  {
   "cell_type": "markdown",
   "metadata": {},
   "source": [
    "##Control flow statements"
   ]
  },
  {
   "cell_type": "markdown",
   "metadata": {},
   "source": [
    "For driving license:\n",
    "    1. Input user's age\n",
    "    2. Convert user's age to integer\n",
    "    3. Check if user's' age is older than 16 years old\n",
    "    4. If user is older, show he is eligible else show he is not"
   ]
  },
  {
   "cell_type": "code",
   "execution_count": 10,
   "metadata": {},
   "outputs": [
    {
     "name": "stdout",
     "output_type": "stream",
     "text": [
      "You are old enough to drive a bike\n"
     ]
    }
   ],
   "source": [
    "# get user's age\n",
    "age_str = input(\"What is your age?\")\n",
    "# convert string into int\n",
    "age = int(age_str)\n",
    "# compare user's age\n",
    "if age >= 16:\n",
    "    print('You are old enough to drive a bike')\n",
    "else:\n",
    "    print(\"You are not old enough to drive a bike\")\n"
   ]
  },
  {
   "cell_type": "markdown",
   "metadata": {},
   "source": [
    "login system"
   ]
  },
  {
   "cell_type": "code",
   "execution_count": 17,
   "metadata": {},
   "outputs": [
    {
     "name": "stdout",
     "output_type": "stream",
     "text": [
      "Invalid username or password\n"
     ]
    }
   ],
   "source": [
    "#login system\n",
    "username = input(\"Enter your username\")\n",
    "password = input(\"Enter your password\")\n",
    "#username == 'duck' and password == 'passw0rd'\n",
    "if username == 'duck' and password == 'passw0rd':\n",
    "    print(\"Welcome duck\")\n",
    "elif username == 'ankur' or password == 'ankur123':\n",
    "    print(\"Welcome ankur\")\n",
    "else:\n",
    "    print(\"Invalid username or password\")"
   ]
  },
  {
   "cell_type": "markdown",
   "metadata": {},
   "source": [
    "looping staements"
   ]
  }
 ],
 "metadata": {
  "kernelspec": {
   "display_name": "Python 3.11.0 64-bit",
   "language": "python",
   "name": "python3"
  },
  "language_info": {
   "codemirror_mode": {
    "name": "ipython",
    "version": 3
   },
   "file_extension": ".py",
   "mimetype": "text/x-python",
   "name": "python",
   "nbconvert_exporter": "python",
   "pygments_lexer": "ipython3",
   "version": "3.11.0"
  },
  "orig_nbformat": 4,
  "vscode": {
   "interpreter": {
    "hash": "7811cc115f115b41c977165ea184702bd403833a83dcee82f674c980b9f1626e"
   }
  }
 },
 "nbformat": 4,
 "nbformat_minor": 2
}
