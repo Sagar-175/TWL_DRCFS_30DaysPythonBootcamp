{
 "cells": [
  {
   "cell_type": "markdown",
   "metadata": {},
   "source": [
    "List and Tuples:\n",
    "\n",
    "List:\n",
    "1. Initialization -> [1, 2]\n",
    "2. Mutable\n",
    "\n",
    "Tuple:\n",
    "1. Initialization -> ('something', 'something')\n",
    "2. Immutable"
   ]
  },
  {
   "cell_type": "code",
   "execution_count": 30,
   "metadata": {},
   "outputs": [
    {
     "name": "stdout",
     "output_type": "stream",
     "text": [
      "red\n",
      "violet\n",
      "green\n",
      "blue\n",
      "indigo\n",
      "yellow\n",
      "orange\n",
      "(0, 'red')\n",
      "(1, 'violet')\n",
      "(2, 'green')\n",
      "(3, 'blue')\n",
      "(4, 'indigo')\n",
      "(5, 'yellow')\n",
      "(6, 'orange')\n"
     ]
    }
   ],
   "source": [
    "# Tuple\n",
    "rainbow_colors = ('red', 'violet', 'green', 'blue', 'indigo', 'yellow', 'orange')\n",
    "\n",
    "for color in rainbow_colors:\n",
    "    print(color)\n",
    "    \n",
    "for val in enumerate(rainbow_colors):\n",
    "    print(val)"
   ]
  },
  {
   "cell_type": "code",
   "execution_count": null,
   "metadata": {},
   "outputs": [],
   "source": [
    "index = rainbow_colors.index('red')\n",
    "print(index)\n",
    "\n",
    "# length of list or tuple\n",
    "print(len(rainbow_colors))"
   ]
  },
  {
   "cell_type": "code",
   "execution_count": null,
   "metadata": {},
   "outputs": [],
   "source": [
    "# List\n",
    "mentor_names = ['Anuj', 'Ashim', 'Samrid', 'Bishal', 'Saugat', 'Utsav', 'Hari']\n",
    "\n",
    "# accessing list's values\n",
    "# Index always starts from 0\n",
    "print(mentor_names)"
   ]
  },
  {
   "cell_type": "code",
   "execution_count": null,
   "metadata": {},
   "outputs": [],
   "source": [
    "# for i in range(100)\n",
    "for mentor in mentor_names:\n",
    "    print(mentor)\n",
    "\n",
    "# add something to list\n",
    "mentor_names.append('Name')  # .append to add smthg in end\n",
    "mentor_names.pop(0)  # .pop to remove or mute element\n",
    "print(mentor_names)\n",
    "\n",
    "# insert into specific index\n",
    "mentor_names.insert(0, 'Anuj')  # .insert to add smthg from left to shift right\n",
    "print(mentor_names)\n",
    "\n",
    "# replace the values\n",
    "mentor_names[0] = 'Samrid'\n",
    "print(mentor_names)"
   ]
  },
  {
   "cell_type": "code",
   "execution_count": null,
   "metadata": {},
   "outputs": [],
   "source": [
    "mentor_names = ['Anuj', 'Ashim', 'Samrid', 'Bishal', 'Saugat', 'Utsav', 'Hari']\n",
    "print(mentor_names)\n",
    "mentor_names.append('Name')  # .append to add smthg in end\n",
    "mentor_names.pop(0)  # .pop to remove or mute element\n",
    "print(mentor_names)\n",
    "mentor_names.insert(0, 'Anuj')  # .insert to add smthg from left to shift right\n",
    "print(mentor_names)\n",
    "mentor_names[0] = 'Samrid'\n",
    "print(mentor_names)"
   ]
  },
  {
   "cell_type": "markdown",
   "metadata": {},
   "source": [
    "List is Mutable, we can change thgs in this variable\n",
    "\n",
    "Redeclaration:\n",
    "a = \"samrid\"\n",
    "a = \"abc\"\n",
    "\n",
    "# interior mutability\n",
    "li1 = [1, 2, 3]\n",
    "li1.append(4)"
   ]
  },
  {
   "cell_type": "code",
   "execution_count": null,
   "metadata": {},
   "outputs": [],
   "source": [
    "# string is immutable\n",
    "name = \"Samrid\"\n",
    "name = name + ' Pandit'\n",
    "print(name)"
   ]
  },
  {
   "cell_type": "markdown",
   "metadata": {},
   "source": [
    "## Dictionary: is mutable\n",
    "\n",
    "key-> value\n",
    "\n",
    "### example: \n",
    "Login system"
   ]
  },
  {
   "cell_type": "code",
   "execution_count": 4,
   "metadata": {},
   "outputs": [
    {
     "name": "stdout",
     "output_type": "stream",
     "text": [
      "{'duck': 'pond', 'chicken': 'egg', 'random': 'random'}\n",
      "None\n",
      "egg\n"
     ]
    }
   ],
   "source": [
    "# username -> password dictionary\n",
    "# dictionary is mutable\n",
    "user_pass = {'duck': 'pond', 'chicken': 'egg', 'random': 'random'}\n",
    "\n",
    "print(user_pass)\n",
    "\n",
    "# accessing value from dictionary (non way)\n",
    "# it returns none if the key is not found\n",
    "print(user_pass.get('abc'))\n",
    "\n",
    "# accessing valye from dictionary\n",
    "# it throws keyerror if the key is not found\n",
    "print(user_pass['chicken'])"
   ]
  },
  {
   "cell_type": "code",
   "execution_count": 5,
   "metadata": {},
   "outputs": [
    {
     "name": "stdout",
     "output_type": "stream",
     "text": [
      "lake\n"
     ]
    }
   ],
   "source": [
    "# replacing value using key\n",
    "user_pass['duck'] = 'lake'\n",
    "\n",
    "print(user_pass.get('duck'))"
   ]
  },
  {
   "cell_type": "code",
   "execution_count": 12,
   "metadata": {},
   "outputs": [
    {
     "name": "stdout",
     "output_type": "stream",
     "text": [
      "('duck', 'lake')\n",
      "('chicken', 'egg')\n",
      "('random', 'random')\n",
      "lake\n",
      "egg\n",
      "random\n",
      "duck\n",
      "chicken\n",
      "random\n"
     ]
    }
   ],
   "source": [
    "for user in user_pass.items():\n",
    "    print(user)\n",
    "\n",
    "for name in user_pass.values():\n",
    "    print(name)\n",
    "\n",
    "for username in user_pass.keys():\n",
    "    print(username)"
   ]
  },
  {
   "cell_type": "code",
   "execution_count": 15,
   "metadata": {},
   "outputs": [
    {
     "name": "stdout",
     "output_type": "stream",
     "text": [
      "dict_items([('duck', 'lake'), ('chicken', 'egg'), ('random', 'random')])\n",
      "dict_keys(['duck', 'chicken', 'random'])\n",
      "dict_values(['lake', 'egg', 'random'])\n"
     ]
    }
   ],
   "source": [
    "print(user_pass.items())\n",
    "print(user_pass.keys())\n",
    "print(user_pass.values())\n"
   ]
  },
  {
   "cell_type": "code",
   "execution_count": 21,
   "metadata": {},
   "outputs": [],
   "source": [
    "# add items to dictionary\n",
    "user_pass['sagar'] = 'sagar'"
   ]
  },
  {
   "cell_type": "markdown",
   "metadata": {},
   "source": [
    "## login system\n",
    "\n",
    "1. take input from user, about their username\n",
    "2. try to get their password from the dictionary\n",
    "3. if the password is none, user doesn't exist\n",
    "4. if the password matches with the password given by the user, say you're logged in else say incorrect password"
   ]
  },
  {
   "cell_type": "code",
   "execution_count": 23,
   "metadata": {},
   "outputs": [
    {
     "name": "stdout",
     "output_type": "stream",
     "text": [
      "Incorrect password\n"
     ]
    }
   ],
   "source": [
    "# login system\n",
    "username = input('What is your username?')\n",
    "input_password = input('What is your password?')\n",
    "\n",
    "real_password = user_pass.get(username)\n",
    "if real_password is None:\n",
    "    print('User does not exist')\n",
    "elif real_password == input_password:\n",
    "    print('You are logged in')\n",
    "else:\n",
    "    print('Incorrect password')"
   ]
  }
 ],
 "metadata": {
  "kernelspec": {
   "display_name": "Python 3.11.0 64-bit",
   "language": "python",
   "name": "python3"
  },
  "language_info": {
   "codemirror_mode": {
    "name": "ipython",
    "version": 3
   },
   "file_extension": ".py",
   "mimetype": "text/x-python",
   "name": "python",
   "nbconvert_exporter": "python",
   "pygments_lexer": "ipython3",
   "version": "3.11.0"
  },
  "orig_nbformat": 4,
  "vscode": {
   "interpreter": {
    "hash": "7811cc115f115b41c977165ea184702bd403833a83dcee82f674c980b9f1626e"
   }
  }
 },
 "nbformat": 4,
 "nbformat_minor": 2
}
