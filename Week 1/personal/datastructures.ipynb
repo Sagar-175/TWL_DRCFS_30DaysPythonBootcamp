{
 "cells": [
  {
   "cell_type": "markdown",
   "metadata": {},
   "source": [
    "List and Tuples:\n",
    "\n",
    "List:\n",
    "1. Initialization -> [1, 2]\n",
    "2. Mutable\n",
    "\n",
    "Tuple:\n",
    "1. Initialization -> ('something', 'something')\n",
    "2. Immutable"
   ]
  },
  {
   "cell_type": "code",
   "execution_count": 30,
   "metadata": {},
   "outputs": [
    {
     "name": "stdout",
     "output_type": "stream",
     "text": [
      "red\n",
      "violet\n",
      "green\n",
      "blue\n",
      "indigo\n",
      "yellow\n",
      "orange\n",
      "(0, 'red')\n",
      "(1, 'violet')\n",
      "(2, 'green')\n",
      "(3, 'blue')\n",
      "(4, 'indigo')\n",
      "(5, 'yellow')\n",
      "(6, 'orange')\n"
     ]
    }
   ],
   "source": [
    "# Tuple\n",
    "rainbow_colors = ('red', 'violet', 'green', 'blue', 'indigo', 'yellow', 'orange')\n",
    "\n",
    "for color in rainbow_colors:\n",
    "    print(color)\n",
    "    \n",
    "for val in enumerate(rainbow_colors):\n",
    "    print(val)"
   ]
  },
  {
   "cell_type": "code",
   "execution_count": null,
   "metadata": {},
   "outputs": [],
   "source": [
    "index = rainbow_colors.index('red')\n",
    "print(index)\n",
    "\n",
    "# length of list or tuple\n",
    "print(len(rainbow_colors))"
   ]
  },
  {
   "cell_type": "code",
   "execution_count": null,
   "metadata": {},
   "outputs": [],
   "source": [
    "# List\n",
    "mentor_names = ['Anuj', 'Ashim', 'Samrid', 'Bishal', 'Saugat', 'Utsav', 'Hari']\n",
    "\n",
    "# accessing list's values\n",
    "# Index always starts from 0\n",
    "print(mentor_names)"
   ]
  },
  {
   "cell_type": "code",
   "execution_count": null,
   "metadata": {},
   "outputs": [],
   "source": [
    "# for i in range(100)\n",
    "for mentor in mentor_names:\n",
    "    print(mentor)\n",
    "\n",
    "# add something to list\n",
    "mentor_names.append('Name')  # .append to add smthg in end\n",
    "mentor_names.pop(0)  # .pop to remove or mute element\n",
    "print(mentor_names)\n",
    "\n",
    "# insert into specific index\n",
    "mentor_names.insert(0, 'Anuj')  # .insert to add smthg from left to shift right\n",
    "print(mentor_names)\n",
    "\n",
    "# replace the values\n",
    "mentor_names[0] = 'Samrid'\n",
    "print(mentor_names)"
   ]
  },
  {
   "cell_type": "code",
   "execution_count": null,
   "metadata": {},
   "outputs": [],
   "source": [
    "mentor_names = ['Anuj', 'Ashim', 'Samrid', 'Bishal', 'Saugat', 'Utsav', 'Hari']\n",
    "print(mentor_names)\n",
    "mentor_names.append('Name')  # .append to add smthg in end\n",
    "mentor_names.pop(0)  # .pop to remove or mute element\n",
    "print(mentor_names)\n",
    "mentor_names.insert(0, 'Anuj')  # .insert to add smthg from left to shift right\n",
    "print(mentor_names)\n",
    "mentor_names[0] = 'Samrid'\n",
    "print(mentor_names)"
   ]
  },
  {
   "cell_type": "markdown",
   "metadata": {},
   "source": [
    "List is Mutable, we can change thgs in this variable\n",
    "\n",
    "Redeclaration:\n",
    "a = \"samrid\"\n",
    "a = \"abc\"\n",
    "\n",
    "# interior mutability\n",
    "li1 = [1, 2, 3]\n",
    "li1.append(4)"
   ]
  },
  {
   "cell_type": "code",
   "execution_count": null,
   "metadata": {},
   "outputs": [],
   "source": [
    "# string is immutable\n",
    "name = \"Samrid\"\n",
    "name = name + ' Pandit'\n",
    "print(name)"
   ]
  }
 ],
 "metadata": {
  "kernelspec": {
   "display_name": "Python 3.11.0 64-bit",
   "language": "python",
   "name": "python3"
  },
  "language_info": {
   "codemirror_mode": {
    "name": "ipython",
    "version": 3
   },
   "file_extension": ".py",
   "mimetype": "text/x-python",
   "name": "python",
   "nbconvert_exporter": "python",
   "pygments_lexer": "ipython3",
   "version": "3.11.0"
  },
  "orig_nbformat": 4,
  "vscode": {
   "interpreter": {
    "hash": "7811cc115f115b41c977165ea184702bd403833a83dcee82f674c980b9f1626e"
   }
  }
 },
 "nbformat": 4,
 "nbformat_minor": 2
}
