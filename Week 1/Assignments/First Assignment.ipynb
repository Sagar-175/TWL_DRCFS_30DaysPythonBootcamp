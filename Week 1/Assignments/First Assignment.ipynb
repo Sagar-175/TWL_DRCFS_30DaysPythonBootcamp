{
 "cells": [
  {
   "cell_type": "markdown",
   "id": "afda66ff",
   "metadata": {},
   "source": [
    "# <p style=\"text-align: center;\">First Week Assignment</p>"
   ]
  },
  {
   "cell_type": "markdown",
   "id": "2982e1ab",
   "metadata": {},
   "source": [
    "## <p style=\"text-align: center;\"> A Guessing Game in Python</p>\n",
    "\n",
    "- It's going to be a simple guessing game where the computer produces a random number from 1 to 10 and the user has to guess it within 5 chances"
   ]
  },
  {
   "cell_type": "code",
   "execution_count": 1,
   "id": "4f33abf8",
   "metadata": {},
   "outputs": [],
   "source": [
    "#@ import the module used in this program\n",
    "\n",
    "import random"
   ]
  },
  {
   "cell_type": "code",
   "execution_count": 2,
   "id": "a80a4f1e",
   "metadata": {},
   "outputs": [
    {
     "name": "stdout",
     "output_type": "stream",
     "text": [
      "7\n"
     ]
    }
   ],
   "source": [
    "#@ Use random module to generate a number between 1 - 10 and store it in a variable\n",
    "random_number = random.randint(1,10)\n",
    "print(random_number)\n"
   ]
  },
  {
   "cell_type": "code",
   "execution_count": 3,
   "id": "56675a6e",
   "metadata": {},
   "outputs": [],
   "source": [
    "#@ Take input of the player name and store it in a varible\n",
    "\n",
    "for i in range(3):\n",
    "    guess = int(input('Enter your guess between 1 and 10: '))\n",
    "    if guess == random_number:\n",
    "        print('*'*50)\n",
    "        print(f\"HOORAY!!! You got the correct guess in {i+1} tries\")\n",
    "        print('*'*50)\n",
    "        break\n",
    "    elif guess > random_number:\n",
    "        print('*'*50)\n",
    "        print(\"Your guess is greater than random number\")\n",
    "        print('*'*50)\n",
    "    elif guess < random_number:\n",
    "        print('*'*50)\n",
    "        print(\"Your guess is lesser than random number\")\n",
    "        print('*'*50)"
   ]
  },
  {
   "cell_type": "code",
   "execution_count": 4,
   "id": "8393d1e2",
   "metadata": {},
   "outputs": [],
   "source": [
    "#@ Create a variable for showing number of guesses and assign it to 0\n",
    "\n"
   ]
  },
  {
   "cell_type": "code",
   "execution_count": 5,
   "id": "2de3abdf",
   "metadata": {},
   "outputs": [],
   "source": [
    "#@ Write a while loop function here\n",
    "\n"
   ]
  },
  {
   "cell_type": "code",
   "execution_count": 6,
   "id": "7005a7e8",
   "metadata": {},
   "outputs": [],
   "source": [
    "#@ Verify that a player has guessed the number or not, so if they did then print a message for then along with \n",
    "# number of guesses and tries and if they couldn't guess the number, print number along with a message\n",
    "\n"
   ]
  },
  {
   "cell_type": "markdown",
   "id": "3d85f2f1",
   "metadata": {},
   "source": [
    "## Steps need to followed:\n",
    "\n",
    "- Our game will give user 5 attempts to guess the number\n",
    "- Inside a loop, take a input from user and store it in variable also don't forget to convert it into a integer using `int()` method\n",
    "- Then write a conditional statements.\n",
    "\n",
    "    - write a `if` statement to check the guess is lower than generated number then print `Your guess is too low`\n",
    "    \n",
    "    - Then, check if the guess is greater than generated number and print `Your guess is too high`\n",
    "    \n",
    "    - Check the guess is equal to generated number. If become equal then terminate the loop entirely using `break` keyword"
   ]
  },
  {
   "cell_type": "markdown",
   "id": "0a1cb96e",
   "metadata": {},
   "source": [
    "Verify that user has guessed the number or not. If they did, then print the message for them along with the number of tries\n",
    "\n",
    "Similarly if they couldn't guess the number at the end, print number along with message"
   ]
  },
  {
   "cell_type": "code",
   "execution_count": 14,
   "id": "076f057d",
   "metadata": {},
   "outputs": [
    {
     "name": "stdout",
     "output_type": "stream",
     "text": [
      "Welcome!!! Let's play a game\n",
      "['rock', 'paper', 'scissors']\n",
      "paper\n",
      "Player 2 wins\n",
      "The game is tie. No one wins\n",
      "Player 1 wins\n",
      "Player 1 wins\n",
      "Player 1 wins\n"
     ]
    }
   ],
   "source": [
    "# Rock paper scissors\n",
    "import random\n",
    "print(\"Welcome!!! Let's play a game\")\n",
    "options = ['rock', 'paper', 'scissors']\n",
    "print(options)\n",
    "player2 = random.choice(options)\n",
    "print(player2)\n",
    "for i in range(5):\n",
    "    player1 = input(\"Choose your answer:\")\n",
    "    if player1 == player2:\n",
    "        print('The game is tie. No one wins')\n",
    "    elif player1 == 'rock' and player2 == 'scissors':\n",
    "        print('Player 1 wins')\n",
    "    elif player1 == 'rock' and player2 == 'paper':\n",
    "        print('Player 2 wins')\n",
    "    elif player1 == 'paper' and player2 == 'rock':\n",
    "        print('Player 1 wins')\n",
    "    elif player1 == 'paper' and player2 == 'scissors':\n",
    "        print('Player 2 wins')\n",
    "    elif player1 == 'scissors' and player2 == 'paper':\n",
    "        print('Player 1 wins')\n",
    "    elif player1 == 'scissors' and player2 == 'rock':\n",
    "        print('Player 2 wins')"
   ]
  },
  {
   "cell_type": "code",
   "execution_count": 9,
   "id": "31d66359",
   "metadata": {},
   "outputs": [
    {
     "name": "stdout",
     "output_type": "stream",
     "text": [
      "C\n"
     ]
    }
   ],
   "source": [
    "import random\n",
    "\n",
    "x = \"WELCOME\"\n",
    "\n",
    "print(random.choice(x))"
   ]
  }
 ],
 "metadata": {
  "kernelspec": {
   "display_name": "Python 3.11.0 64-bit",
   "language": "python",
   "name": "python3"
  },
  "language_info": {
   "codemirror_mode": {
    "name": "ipython",
    "version": 3
   },
   "file_extension": ".py",
   "mimetype": "text/x-python",
   "name": "python",
   "nbconvert_exporter": "python",
   "pygments_lexer": "ipython3",
   "version": "3.11.0"
  },
  "vscode": {
   "interpreter": {
    "hash": "7811cc115f115b41c977165ea184702bd403833a83dcee82f674c980b9f1626e"
   }
  }
 },
 "nbformat": 4,
 "nbformat_minor": 5
}
